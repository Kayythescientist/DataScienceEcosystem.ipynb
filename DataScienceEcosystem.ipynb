{
 "cells": [
  {
   "cell_type": "markdown",
   "id": "6345d6b2",
   "metadata": {},
   "source": [
    "# **Data Science Tools and Ecosystem**\n"
   ]
  },
  {
   "cell_type": "markdown",
   "id": "55244b5f",
   "metadata": {},
   "source": [
    "## **In this notebook, Data Science Tools and Ecosystem are summarized.**\n"
   ]
  },
  {
   "cell_type": "markdown",
   "id": "09a21fdc",
   "metadata": {},
   "source": [
    "### **Objectives**:\n",
    "\n",
    "1. listing popular languages that Data Scientist use\n",
    "2. listing the Libraries being used by Data Scientist\n",
    "3. Converting minutes to hours"
   ]
  },
  {
   "cell_type": "markdown",
   "id": "a167c0dc",
   "metadata": {},
   "source": [
    "### *Some of the popular languages that Data Scientists use are:*\n",
    "\n",
    "1. python\n",
    "2. R\n",
    "3. Java\n",
    "4. Scala\n",
    "5. SQL\n",
    "6. Julia\n",
    "7. Javascript"
   ]
  },
  {
   "cell_type": "markdown",
   "id": "578eb83f",
   "metadata": {},
   "source": [
    "### *Some of the commonly used libraries used by Data Scientists include:*\n",
    "\n",
    "1. TensorFlow\n",
    "2. NumPy\n",
    "3. SciPy\n",
    "4. Pandas\n",
    "5. Matplotlib\n",
    "6. PyTorch\n",
    "7. SciKit-Learn\n",
    "8. ggplot2\n",
    "9. BeautifulSoup\n",
    "10. Caffe2\n",
    "11. Scrapy\n",
    "12. Dpylr\n",
    "13. Knitr\n",
    "14. Lubridate\n",
    "15. RCrawler"
   ]
  },
  {
   "cell_type": "markdown",
   "id": "9a6e57e5",
   "metadata": {},
   "source": [
    "### **Data Science Tools**\n",
    "\n",
    "\n",
    " |Data science Tools|\n",
    " |------------------|\n",
    " |Jupyter Notebook|\n",
    " |SAS|\n",
    " |Apache Spark|\n",
    " |BigML|\n",
    " "
   ]
  },
  {
   "cell_type": "markdown",
   "id": "c896b730",
   "metadata": {},
   "source": [
    "### **Below are a few examples of evaluating arithmetic expressions in Python** \n",
    "\n"
   ]
  },
  {
   "cell_type": "code",
   "execution_count": 9,
   "id": "c042bd78",
   "metadata": {},
   "outputs": [
    {
     "data": {
      "text/plain": [
       "17"
      ]
     },
     "execution_count": 9,
     "metadata": {},
     "output_type": "execute_result"
    }
   ],
   "source": [
    "# This a simple arithmetic expression to mutiply then add integers\n",
    "(3*4)+5"
   ]
  },
  {
   "cell_type": "markdown",
   "id": "cc71d5f9",
   "metadata": {},
   "source": [
    "### **How to convert minutes to hours**\n",
    "\n",
    "Formula for converting from minutes is (mins * (1hr/60)\n"
   ]
  },
  {
   "cell_type": "code",
   "execution_count": 10,
   "id": "4ddcee5c",
   "metadata": {},
   "outputs": [
    {
     "name": "stdout",
     "output_type": "stream",
     "text": [
      "3\n"
     ]
    }
   ],
   "source": [
    "#Converting 200 mins to hours \n",
    "\n",
    "mins = 200\n",
    "hr = 1\n",
    "\n",
    "hours = (mins * (hr/60))\n",
    "#using the function int to make the result appear as a interger rather than a float\n",
    "result = int(hours)\n",
    "print(result)\n"
   ]
  },
  {
   "cell_type": "markdown",
   "id": "320a61e7",
   "metadata": {},
   "source": [
    "## **Author:**\n",
    "\n",
    "Emmanuel Aregbesola"
   ]
  },
  {
   "cell_type": "code",
   "execution_count": null,
   "id": "e5ed333c",
   "metadata": {},
   "outputs": [],
   "source": []
  }
 ],
 "metadata": {
  "kernelspec": {
   "display_name": "Python 3 (ipykernel)",
   "language": "python",
   "name": "python3"
  },
  "language_info": {
   "codemirror_mode": {
    "name": "ipython",
    "version": 3
   },
   "file_extension": ".py",
   "mimetype": "text/x-python",
   "name": "python",
   "nbconvert_exporter": "python",
   "pygments_lexer": "ipython3",
   "version": "3.9.13"
  }
 },
 "nbformat": 4,
 "nbformat_minor": 5
}
